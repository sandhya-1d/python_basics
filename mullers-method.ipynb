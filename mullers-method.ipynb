{
 "cells": [
  {
   "cell_type": "code",
   "execution_count": 5,
   "metadata": {
    "collapsed": true
   },
   "outputs": [],
   "source": [
    "import math"
   ]
  },
  {
   "cell_type": "code",
   "execution_count": 9,
   "metadata": {
    "collapsed": true
   },
   "outputs": [],
   "source": [
    "def f(x):\n",
    "    return (x**3 - 12 * (x*13))\n",
    "    \n",
    "def solve_f(x0, x1, x2):\n",
    "    h0 = x1 - x0\n",
    "    h1 = x2 - x1\n",
    "    e0 = (f(x1) - f(x0)) / h0\n",
    "    e1 = (f(x2) - f(x1)) / h1\n",
    "    a = (e1 - e0) / h0 + h1\n",
    "    b = a * h1 + e1\n",
    "    c = f(x2)\n",
    "    delta = math.sqrt( (b**2) - 4 * a *c)\n",
    "    if b<0:\n",
    "        x3 = x2 - ((2 * c) / (b - delta))\n",
    "    else:\n",
    "        x3 = x2 - ((2 * c) / (b + delta))\n",
    "    error = (x2 - x3) / x3\n",
    "    return error, x3  "
   ]
  },
  {
   "cell_type": "code",
   "execution_count": 13,
   "metadata": {
    "collapsed": false
   },
   "outputs": [
    {
     "name": "stdout",
     "output_type": "stream",
     "text": [
      "Enter x0 4.5\n",
      "Enter x1 5.5\n",
      "Enter x2 5\n",
      "Enter error 0.00001\n",
      "roots are 4.5 , 5.5 , 5.0\n"
     ]
    }
   ],
   "source": [
    "x0 = float(input('Enter x0'))\n",
    "x1 = float(input('Enter x1'))\n",
    "x2 = float(input('Enter x2'))\n",
    "allowed_error = float(input('Enter error'))\n",
    "while True:\n",
    "    cal_error, x3 = solve_f(x0, x1, x2)\n",
    "    if cal_error <= allowed_error:\n",
    "        print (\"roots are \"+str(x0)+\" , \"+str(x1)+\" , \"+str(x2))\n",
    "        break\n",
    "    else:\n",
    "        x0 = x1\n",
    "        x1 = x2\n",
    "        x2 = x3"
   ]
  },
  {
   "cell_type": "code",
   "execution_count": null,
   "metadata": {
    "collapsed": true
   },
   "outputs": [],
   "source": []
  }
 ],
 "metadata": {
  "kernelspec": {
   "display_name": "Python 3",
   "language": "python",
   "name": "python3"
  },
  "language_info": {
   "codemirror_mode": {
    "name": "ipython",
    "version": 3
   },
   "file_extension": ".py",
   "mimetype": "text/x-python",
   "name": "python",
   "nbconvert_exporter": "python",
   "pygments_lexer": "ipython3",
   "version": "3.5.2"
  }
 },
 "nbformat": 4,
 "nbformat_minor": 2
}
