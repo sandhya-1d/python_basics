{
 "cells": [
  {
   "cell_type": "code",
   "execution_count": 1,
   "metadata": {
    "collapsed": true
   },
   "outputs": [],
   "source": [
    "import math"
   ]
  },
  {
   "cell_type": "code",
   "execution_count": 2,
   "metadata": {
    "collapsed": true
   },
   "outputs": [],
   "source": [
    "def f(x):\n",
    "    return (x**2 - (2 * x) -1)\n",
    "    #return ((8*x**2)+4-(x**4))"
   ]
  },
  {
   "cell_type": "code",
   "execution_count": 10,
   "metadata": {
    "collapsed": true
   },
   "outputs": [],
   "source": [
    "def derv_f(x):\n",
    "    return (2*x -2)\n",
    "    #return (16*x - 4*(x**3))\n",
    "def solve_f(x0):\n",
    "    x1 = x0 - (f(x0) / derv_f(x0))\n",
    "    error = abs(x1 - x0) / x1\n",
    "    return error, x1  \n"
   ]
  },
  {
   "cell_type": "code",
   "execution_count": null,
   "metadata": {
    "collapsed": true
   },
   "outputs": [],
   "source": []
  },
  {
   "cell_type": "code",
   "execution_count": 11,
   "metadata": {
    "collapsed": false
   },
   "outputs": [
    {
     "name": "stdout",
     "output_type": "stream",
     "text": [
      "Enter x0 0\n",
      "Enter error0.0005\n",
      "roots are 2.0 , -8.0\n"
     ]
    }
   ],
   "source": [
    "x0 = float(input('Enter x0'))\n",
    "allowed_error = float(input('Enter error'))\n",
    "while True:\n",
    "    cal_error, x1 = solve_f(x0)\n",
    "    if cal_error <= allowed_error:\n",
    "        print (\"roots are \"+str(x0)+\" , \"+str(x1))\n",
    "        break\n",
    "    else:\n",
    "        x0 = x1"
   ]
  },
  {
   "cell_type": "code",
   "execution_count": null,
   "metadata": {
    "collapsed": true
   },
   "outputs": [],
   "source": []
  }
 ],
 "metadata": {
  "kernelspec": {
   "display_name": "Python 3",
   "language": "python",
   "name": "python3"
  },
  "language_info": {
   "codemirror_mode": {
    "name": "ipython",
    "version": 3
   },
   "file_extension": ".py",
   "mimetype": "text/x-python",
   "name": "python",
   "nbconvert_exporter": "python",
   "pygments_lexer": "ipython3",
   "version": "3.5.2"
  }
 },
 "nbformat": 4,
 "nbformat_minor": 2
}
