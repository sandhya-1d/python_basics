{
 "cells": [
  {
   "cell_type": "code",
   "execution_count": 3,
   "metadata": {
    "collapsed": true
   },
   "outputs": [],
   "source": [
    "import math"
   ]
  },
  {
   "cell_type": "code",
   "execution_count": 4,
   "metadata": {
    "collapsed": true
   },
   "outputs": [],
   "source": [
    "def f(x):\n",
    "    #return (x**2 - 5)\n",
    "    #return (x**3 - 20)\n",
    "    return ((8*x**2)+4-(x**4))"
   ]
  },
  {
   "cell_type": "code",
   "execution_count": 5,
   "metadata": {
    "collapsed": false
   },
   "outputs": [],
   "source": [
    "def solve_f(x0, x1):\n",
    "    eqn = f(x1) * ( (x1-x0) / (f(x1) - f(x0)) )\n",
    "    x2 = x1 - eqn\n",
    "    return f(x2), x2  "
   ]
  },
  {
   "cell_type": "code",
   "execution_count": 9,
   "metadata": {
    "collapsed": false
   },
   "outputs": [
    {
     "name": "stdout",
     "output_type": "stream",
     "text": [
      "Enter x0 1\n",
      "Enter x1 2\n",
      "Enter error0.0005\n",
      "0.3333333333333335\n",
      "-0.10256410256410264\n",
      "roots are 2.0 , 2.3333333333333335\n"
     ]
    }
   ],
   "source": [
    "x0 = float(input('Enter x0'))\n",
    "x1 = float(input('Enter x1'))\n",
    "allowed_error = float(input('Enter error'))\n",
    "while True:\n",
    "    cal_f, x2 = solve_f(x0, x1)\n",
    "    cal_error = x2 - x1\n",
    "    print (cal_error)\n",
    "    if cal_error < allowed_error:\n",
    "        print (\"roots are \"+str(x0)+\" , \"+str(x1))\n",
    "        break\n",
    "    else:\n",
    "        x0 = x1\n",
    "        x1 = x2"
   ]
  },
  {
   "cell_type": "code",
   "execution_count": null,
   "metadata": {
    "collapsed": true
   },
   "outputs": [],
   "source": []
  }
 ],
 "metadata": {
  "kernelspec": {
   "display_name": "Python 3",
   "language": "python",
   "name": "python3"
  },
  "language_info": {
   "codemirror_mode": {
    "name": "ipython",
    "version": 3
   },
   "file_extension": ".py",
   "mimetype": "text/x-python",
   "name": "python",
   "nbconvert_exporter": "python",
   "pygments_lexer": "ipython3",
   "version": "3.5.2"
  }
 },
 "nbformat": 4,
 "nbformat_minor": 2
}
